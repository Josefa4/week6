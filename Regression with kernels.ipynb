{
 "cells": [
  {
   "cell_type": "code",
   "execution_count": 2,
   "metadata": {},
   "outputs": [
    {
     "data": {
      "application/vnd.jupyter.widget-view+json": {
       "model_id": "b2fba9cc31594bbba3d9b7f437e2593b",
       "version_major": 2,
       "version_minor": 0
      },
      "text/plain": [
       "Canvas(toolbar=Toolbar(toolitems=[('Home', 'Reset original view', 'home', 'home'), ('Back', 'Back to previous …"
      ]
     },
     "metadata": {},
     "output_type": "display_data"
    }
   ],
   "source": [
    "def gaussian_kernel0(distances):\n",
    "    weights=np.exp(-0*(distances)**2)\n",
    "    return weights/np.sum(weights)\n",
    "def gaussian_kernel1(distances):\n",
    "    weights=np.exp(-1*(distances)**2)\n",
    "    return weights/np.sum(weights)\n",
    "def gaussian_kernel5(distances):\n",
    "    weights=np.exp(-5*(distances)**2)\n",
    "    return weights/np.sum(weights)\n",
    "def gaussian_kernell0(distances):\n",
    "    weights=np.exp(-10*(distances)**2)\n",
    "    return weights/np.sum(weights)\n",
    "def gaussian_kernel25(distances):\n",
    "    weights=np.exp(-25*(distances)**2)\n",
    "    return weights/np.sum(weights)\n",
    "\n",
    "\n",
    "#id:23-115-69 \n",
    "import numpy as np\n",
    "import pandas as pd\n",
    "\n",
    "#read in csv data\n",
    "df = pd.read_csv('week6.csv', comment=\"#\")\n",
    "#print(df.head())\n",
    "\n",
    "#dummy data\n",
    "d_X = [-1, 0, 1]\n",
    "d_X = np.array(d_X)\n",
    "d_X=d_X.reshape(-1, 1)\n",
    "d_y = [0, 1, 0]\n",
    "grid = np.linspace(-3, 3)\n",
    "grid=grid.reshape(-1, 1)\n",
    "#Using kNN and kernalised ridge regression generate predictions on the grid\n",
    "import matplotlib.pyplot as plt\n",
    "#kNN\n",
    "from sklearn import neighbors, preprocessing\n",
    "from sklearn.model_selection import train_test_split\n",
    "knn0=neighbors.KNeighborsRegressor(n_neighbors=3, weights=gaussian_kernel0).fit(d_X, d_y)\n",
    "knn1=neighbors.KNeighborsRegressor(n_neighbors=3, weights=gaussian_kernel1).fit(d_X, d_y)\n",
    "knn5=neighbors.KNeighborsRegressor(n_neighbors=3, weights=gaussian_kernel5).fit(d_X, d_y)\n",
    "knn10=neighbors.KNeighborsRegressor(n_neighbors=3, weights=gaussian_kernell0).fit(d_X, d_y)\n",
    "knn25=neighbors.KNeighborsRegressor(n_neighbors=3, weights=gaussian_kernel25).fit(d_X, d_y)\n",
    "\n",
    "#plotting our results\n",
    "%matplotlib widget\n",
    "plt.figure()\n",
    "preds=knn0.predict(grid)\n",
    "plt.plot(grid, preds, label='gamma=0', color='y')\n",
    "preds=knn1.predict(grid)\n",
    "plt.plot(grid, preds, label='gamma=1', color='r')\n",
    "preds=knn5.predict(grid)\n",
    "plt.plot(grid, preds, label='gamma=5', color='g')\n",
    "preds=knn10.predict(grid)\n",
    "plt.plot(grid, preds, label='gamma=10', color='purple')\n",
    "preds=knn25.predict(grid)\n",
    "plt.plot(grid, preds, label='gamma=25', color='b')\n",
    "plt.legend()\n",
    "plt.show()"
   ]
  },
  {
   "cell_type": "code",
   "execution_count": 15,
   "metadata": {},
   "outputs": [
    {
     "name": "stderr",
     "output_type": "stream",
     "text": [
      "C:\\Users\\Owner\\Anaconda3\\lib\\site-packages\\ipykernel_launcher.py:9: RuntimeWarning: More than 20 figures have been opened. Figures created through the pyplot interface (`matplotlib.pyplot.figure`) are retained until explicitly closed and may consume too much memory. (To control this warning, see the rcParam `figure.max_open_warning`).\n",
      "  if __name__ == '__main__':\n"
     ]
    },
    {
     "data": {
      "application/vnd.jupyter.widget-view+json": {
       "model_id": "402ca24bc2f748e78e4bbc6c6289807b",
       "version_major": 2,
       "version_minor": 0
      },
      "text/plain": [
       "Canvas(toolbar=Toolbar(toolitems=[('Home', 'Reset original view', 'home', 'home'), ('Back', 'Back to previous …"
      ]
     },
     "metadata": {},
     "output_type": "display_data"
    },
    {
     "name": "stderr",
     "output_type": "stream",
     "text": [
      "C:\\Users\\Owner\\Anaconda3\\lib\\site-packages\\ipykernel_launcher.py:9: RuntimeWarning: More than 20 figures have been opened. Figures created through the pyplot interface (`matplotlib.pyplot.figure`) are retained until explicitly closed and may consume too much memory. (To control this warning, see the rcParam `figure.max_open_warning`).\n",
      "  if __name__ == '__main__':\n"
     ]
    },
    {
     "data": {
      "application/vnd.jupyter.widget-view+json": {
       "model_id": "233bb06218654ef38d5de85363589267",
       "version_major": 2,
       "version_minor": 0
      },
      "text/plain": [
       "Canvas(toolbar=Toolbar(toolitems=[('Home', 'Reset original view', 'home', 'home'), ('Back', 'Back to previous …"
      ]
     },
     "metadata": {},
     "output_type": "display_data"
    },
    {
     "name": "stderr",
     "output_type": "stream",
     "text": [
      "C:\\Users\\Owner\\Anaconda3\\lib\\site-packages\\ipykernel_launcher.py:9: RuntimeWarning: More than 20 figures have been opened. Figures created through the pyplot interface (`matplotlib.pyplot.figure`) are retained until explicitly closed and may consume too much memory. (To control this warning, see the rcParam `figure.max_open_warning`).\n",
      "  if __name__ == '__main__':\n"
     ]
    },
    {
     "data": {
      "application/vnd.jupyter.widget-view+json": {
       "model_id": "597dee84160f421fa6ce053975ca0af1",
       "version_major": 2,
       "version_minor": 0
      },
      "text/plain": [
       "Canvas(toolbar=Toolbar(toolitems=[('Home', 'Reset original view', 'home', 'home'), ('Back', 'Back to previous …"
      ]
     },
     "metadata": {},
     "output_type": "display_data"
    },
    {
     "name": "stderr",
     "output_type": "stream",
     "text": [
      "C:\\Users\\Owner\\Anaconda3\\lib\\site-packages\\ipykernel_launcher.py:9: RuntimeWarning: More than 20 figures have been opened. Figures created through the pyplot interface (`matplotlib.pyplot.figure`) are retained until explicitly closed and may consume too much memory. (To control this warning, see the rcParam `figure.max_open_warning`).\n",
      "  if __name__ == '__main__':\n"
     ]
    },
    {
     "data": {
      "application/vnd.jupyter.widget-view+json": {
       "model_id": "ac99f12d9b9743ce950e3afbb34d12c5",
       "version_major": 2,
       "version_minor": 0
      },
      "text/plain": [
       "Canvas(toolbar=Toolbar(toolitems=[('Home', 'Reset original view', 'home', 'home'), ('Back', 'Back to previous …"
      ]
     },
     "metadata": {},
     "output_type": "display_data"
    },
    {
     "name": "stderr",
     "output_type": "stream",
     "text": [
      "C:\\Users\\Owner\\Anaconda3\\lib\\site-packages\\ipykernel_launcher.py:9: RuntimeWarning: More than 20 figures have been opened. Figures created through the pyplot interface (`matplotlib.pyplot.figure`) are retained until explicitly closed and may consume too much memory. (To control this warning, see the rcParam `figure.max_open_warning`).\n",
      "  if __name__ == '__main__':\n"
     ]
    },
    {
     "data": {
      "application/vnd.jupyter.widget-view+json": {
       "model_id": "178fd056206f45ec978abeb210f34ef8",
       "version_major": 2,
       "version_minor": 0
      },
      "text/plain": [
       "Canvas(toolbar=Toolbar(toolitems=[('Home', 'Reset original view', 'home', 'home'), ('Back', 'Back to previous …"
      ]
     },
     "metadata": {},
     "output_type": "display_data"
    },
    {
     "name": "stdout",
     "output_type": "stream",
     "text": [
      "[[[-2.50000000e-02  1.75000000e-01 -2.50000000e-02]\n",
      "  [-5.71428571e-01  1.42857143e+00 -5.71428571e-01]\n",
      "  [-6.66555574e+02  1.33344443e+03 -6.66555574e+02]]\n",
      "\n",
      " [[-1.02647158e-02  1.67925393e-01 -1.02647158e-02]\n",
      "  [-1.83316181e-01  7.56584339e-01 -1.83316181e-01]\n",
      "  [-4.91387484e-01  1.36086227e+00 -4.91387484e-01]]\n",
      "\n",
      " [[-1.87165666e-04  1.66667087e-01 -1.87165666e-04]\n",
      "  [-2.99476396e-03  6.66693571e-01 -2.99476396e-03]\n",
      "  [-6.73182473e-03  9.99590922e-01 -6.73182473e-03]]\n",
      "\n",
      " [[-1.26110916e-06  1.66666667e-01 -1.26110916e-06]\n",
      "  [-2.01777466e-05  6.66666668e-01 -2.01777466e-05]\n",
      "  [-4.53545640e-05  9.99500254e-01 -4.53545640e-05]]\n",
      "\n",
      " [[-3.85776218e-13  1.66666667e-01 -3.85776218e-13]\n",
      "  [-6.17241950e-12  6.66666667e-01 -6.17241950e-12]\n",
      "  [-1.38740663e-11  9.99500250e-01 -1.38740663e-11]]]\n"
     ]
    }
   ],
   "source": [
    "#KernelRidge\n",
    "from sklearn.kernel_ridge import KernelRidge\n",
    "\n",
    "C_range = [0.1, 1, 1000]\n",
    "gamma_range = [0, 1, 5, 10, 25]\n",
    "coefficients=[]\n",
    "\n",
    "for gam in gamma_range:\n",
    "    plt.figure()\n",
    "    plt.title('gamma = %d'%gam)\n",
    "    plt.xlabel('X')\n",
    "    plt.ylabel('y')\n",
    "    \n",
    "    temp=[]\n",
    "    \n",
    "    for C in C_range:\n",
    "        KRidge = KernelRidge(alpha=1/(2*C), kernel='rbf', gamma=gam)\n",
    "        KRidge.fit(d_X, d_y)\n",
    "        preds=KRidge.predict(grid)\n",
    "        plt.plot(grid, preds, label = ' C=%d'%C)\n",
    "        temp.append(KRidge.dual_coef_)\n",
    "        \n",
    "    plt.legend()\n",
    "    plt.show()\n",
    "    \n",
    "    temp=np.array(temp)\n",
    "    coefficients.append(temp)\n",
    "coefficients=np.array(coefficients)\n",
    "print(coefficients)\n"
   ]
  }
 ],
 "metadata": {
  "kernelspec": {
   "display_name": "Python 3",
   "language": "python",
   "name": "python3"
  },
  "language_info": {
   "codemirror_mode": {
    "name": "ipython",
    "version": 3
   },
   "file_extension": ".py",
   "mimetype": "text/x-python",
   "name": "python",
   "nbconvert_exporter": "python",
   "pygments_lexer": "ipython3",
   "version": "3.7.3"
  }
 },
 "nbformat": 4,
 "nbformat_minor": 4
}
